{
 "cells": [
  {
   "cell_type": "markdown",
   "id": "af10eaf0",
   "metadata": {},
   "source": [
    "# 1- Importing libraries"
   ]
  },
  {
   "cell_type": "code",
   "execution_count": 1,
   "id": "bfeb44ca",
   "metadata": {},
   "outputs": [],
   "source": [
    "import pandas as pd\n",
    "import numpy as np\n",
    "import seaborn as sns\n",
    "import matplotlib as plt\n",
    "from sklearn.preprocessing import LabelEncoder\n",
    "from sklearn.model_selection import train_test_split\n",
    "from sklearn.preprocessing import StandardScaler, MinMaxScaler\n",
    "from tensorflow.keras.models import Sequential\n",
    "from tensorflow.keras.layers import Dense, Dropout\n",
    "from tensorflow.keras.callbacks import EarlyStopping"
   ]
  },
  {
   "cell_type": "markdown",
   "id": "841724fc",
   "metadata": {},
   "source": [
    "# 2- Loading The dataset"
   ]
  },
  {
   "cell_type": "code",
   "execution_count": 2,
   "id": "a197ddaa",
   "metadata": {},
   "outputs": [
    {
     "data": {
      "text/html": [
       "<div>\n",
       "<style scoped>\n",
       "    .dataframe tbody tr th:only-of-type {\n",
       "        vertical-align: middle;\n",
       "    }\n",
       "\n",
       "    .dataframe tbody tr th {\n",
       "        vertical-align: top;\n",
       "    }\n",
       "\n",
       "    .dataframe thead th {\n",
       "        text-align: right;\n",
       "    }\n",
       "</style>\n",
       "<table border=\"1\" class=\"dataframe\">\n",
       "  <thead>\n",
       "    <tr style=\"text-align: right;\">\n",
       "      <th></th>\n",
       "      <th>Item_Identifier</th>\n",
       "      <th>Item_Weight</th>\n",
       "      <th>Item_Fat_Content</th>\n",
       "      <th>Item_Visibility</th>\n",
       "      <th>Item_Type</th>\n",
       "      <th>Item_MRP</th>\n",
       "      <th>Outlet_Identifier</th>\n",
       "      <th>Outlet_Establishment_Year</th>\n",
       "      <th>Outlet_Size</th>\n",
       "      <th>Outlet_Location_Type</th>\n",
       "      <th>Outlet_Type</th>\n",
       "      <th>Item_Outlet_Sales</th>\n",
       "    </tr>\n",
       "  </thead>\n",
       "  <tbody>\n",
       "    <tr>\n",
       "      <th>0</th>\n",
       "      <td>FDA15</td>\n",
       "      <td>9.30</td>\n",
       "      <td>Low Fat</td>\n",
       "      <td>0.016047</td>\n",
       "      <td>Dairy</td>\n",
       "      <td>249.8092</td>\n",
       "      <td>OUT049</td>\n",
       "      <td>1999</td>\n",
       "      <td>Medium</td>\n",
       "      <td>Tier 1</td>\n",
       "      <td>Supermarket Type1</td>\n",
       "      <td>3735.1380</td>\n",
       "    </tr>\n",
       "    <tr>\n",
       "      <th>1</th>\n",
       "      <td>DRC01</td>\n",
       "      <td>5.92</td>\n",
       "      <td>Regular</td>\n",
       "      <td>0.019278</td>\n",
       "      <td>Soft Drinks</td>\n",
       "      <td>48.2692</td>\n",
       "      <td>OUT018</td>\n",
       "      <td>2009</td>\n",
       "      <td>Medium</td>\n",
       "      <td>Tier 3</td>\n",
       "      <td>Supermarket Type2</td>\n",
       "      <td>443.4228</td>\n",
       "    </tr>\n",
       "    <tr>\n",
       "      <th>2</th>\n",
       "      <td>FDN15</td>\n",
       "      <td>17.50</td>\n",
       "      <td>Low Fat</td>\n",
       "      <td>0.016760</td>\n",
       "      <td>Meat</td>\n",
       "      <td>141.6180</td>\n",
       "      <td>OUT049</td>\n",
       "      <td>1999</td>\n",
       "      <td>Medium</td>\n",
       "      <td>Tier 1</td>\n",
       "      <td>Supermarket Type1</td>\n",
       "      <td>2097.2700</td>\n",
       "    </tr>\n",
       "    <tr>\n",
       "      <th>3</th>\n",
       "      <td>FDX07</td>\n",
       "      <td>19.20</td>\n",
       "      <td>Regular</td>\n",
       "      <td>0.000000</td>\n",
       "      <td>Fruits and Vegetables</td>\n",
       "      <td>182.0950</td>\n",
       "      <td>OUT010</td>\n",
       "      <td>1998</td>\n",
       "      <td>NaN</td>\n",
       "      <td>Tier 3</td>\n",
       "      <td>Grocery Store</td>\n",
       "      <td>732.3800</td>\n",
       "    </tr>\n",
       "    <tr>\n",
       "      <th>4</th>\n",
       "      <td>NCD19</td>\n",
       "      <td>8.93</td>\n",
       "      <td>Low Fat</td>\n",
       "      <td>0.000000</td>\n",
       "      <td>Household</td>\n",
       "      <td>53.8614</td>\n",
       "      <td>OUT013</td>\n",
       "      <td>1987</td>\n",
       "      <td>High</td>\n",
       "      <td>Tier 3</td>\n",
       "      <td>Supermarket Type1</td>\n",
       "      <td>994.7052</td>\n",
       "    </tr>\n",
       "  </tbody>\n",
       "</table>\n",
       "</div>"
      ],
      "text/plain": [
       "  Item_Identifier  Item_Weight Item_Fat_Content  Item_Visibility  \\\n",
       "0           FDA15         9.30          Low Fat         0.016047   \n",
       "1           DRC01         5.92          Regular         0.019278   \n",
       "2           FDN15        17.50          Low Fat         0.016760   \n",
       "3           FDX07        19.20          Regular         0.000000   \n",
       "4           NCD19         8.93          Low Fat         0.000000   \n",
       "\n",
       "               Item_Type  Item_MRP Outlet_Identifier  \\\n",
       "0                  Dairy  249.8092            OUT049   \n",
       "1            Soft Drinks   48.2692            OUT018   \n",
       "2                   Meat  141.6180            OUT049   \n",
       "3  Fruits and Vegetables  182.0950            OUT010   \n",
       "4              Household   53.8614            OUT013   \n",
       "\n",
       "   Outlet_Establishment_Year Outlet_Size Outlet_Location_Type  \\\n",
       "0                       1999      Medium               Tier 1   \n",
       "1                       2009      Medium               Tier 3   \n",
       "2                       1999      Medium               Tier 1   \n",
       "3                       1998         NaN               Tier 3   \n",
       "4                       1987        High               Tier 3   \n",
       "\n",
       "         Outlet_Type  Item_Outlet_Sales  \n",
       "0  Supermarket Type1          3735.1380  \n",
       "1  Supermarket Type2           443.4228  \n",
       "2  Supermarket Type1          2097.2700  \n",
       "3      Grocery Store           732.3800  \n",
       "4  Supermarket Type1           994.7052  "
      ]
     },
     "execution_count": 2,
     "metadata": {},
     "output_type": "execute_result"
    }
   ],
   "source": [
    "# Loading the dataset that we will work with\n",
    "df = pd.read_csv('Train.csv')\n",
    "df.head()"
   ]
  },
  {
   "cell_type": "markdown",
   "id": "7b3560eb",
   "metadata": {},
   "source": [
    "As we can see we have some NaN values so we have a lot of work to do with preprocessing this dataset.\n",
    "\n",
    "We can also see Item_Visibility Column has numerical values equal to 0 which isn't very effiecnt to train the model on so we will adjust it later in our pre processing."
   ]
  },
  {
   "cell_type": "markdown",
   "id": "217c29c9",
   "metadata": {},
   "source": [
    "# 3- Discovering our dataset"
   ]
  },
  {
   "cell_type": "code",
   "execution_count": 3,
   "id": "7bf8e1c9",
   "metadata": {},
   "outputs": [
    {
     "data": {
      "text/html": [
       "<div>\n",
       "<style scoped>\n",
       "    .dataframe tbody tr th:only-of-type {\n",
       "        vertical-align: middle;\n",
       "    }\n",
       "\n",
       "    .dataframe tbody tr th {\n",
       "        vertical-align: top;\n",
       "    }\n",
       "\n",
       "    .dataframe thead th {\n",
       "        text-align: right;\n",
       "    }\n",
       "</style>\n",
       "<table border=\"1\" class=\"dataframe\">\n",
       "  <thead>\n",
       "    <tr style=\"text-align: right;\">\n",
       "      <th></th>\n",
       "      <th>Item_Weight</th>\n",
       "      <th>Item_Visibility</th>\n",
       "      <th>Item_MRP</th>\n",
       "      <th>Outlet_Establishment_Year</th>\n",
       "      <th>Item_Outlet_Sales</th>\n",
       "    </tr>\n",
       "  </thead>\n",
       "  <tbody>\n",
       "    <tr>\n",
       "      <th>count</th>\n",
       "      <td>7060.000000</td>\n",
       "      <td>8523.000000</td>\n",
       "      <td>8523.000000</td>\n",
       "      <td>8523.000000</td>\n",
       "      <td>8523.000000</td>\n",
       "    </tr>\n",
       "    <tr>\n",
       "      <th>mean</th>\n",
       "      <td>12.857645</td>\n",
       "      <td>0.066132</td>\n",
       "      <td>140.992782</td>\n",
       "      <td>1997.831867</td>\n",
       "      <td>2181.288914</td>\n",
       "    </tr>\n",
       "    <tr>\n",
       "      <th>std</th>\n",
       "      <td>4.643456</td>\n",
       "      <td>0.051598</td>\n",
       "      <td>62.275067</td>\n",
       "      <td>8.371760</td>\n",
       "      <td>1706.499616</td>\n",
       "    </tr>\n",
       "    <tr>\n",
       "      <th>min</th>\n",
       "      <td>4.555000</td>\n",
       "      <td>0.000000</td>\n",
       "      <td>31.290000</td>\n",
       "      <td>1985.000000</td>\n",
       "      <td>33.290000</td>\n",
       "    </tr>\n",
       "    <tr>\n",
       "      <th>25%</th>\n",
       "      <td>8.773750</td>\n",
       "      <td>0.026989</td>\n",
       "      <td>93.826500</td>\n",
       "      <td>1987.000000</td>\n",
       "      <td>834.247400</td>\n",
       "    </tr>\n",
       "    <tr>\n",
       "      <th>50%</th>\n",
       "      <td>12.600000</td>\n",
       "      <td>0.053931</td>\n",
       "      <td>143.012800</td>\n",
       "      <td>1999.000000</td>\n",
       "      <td>1794.331000</td>\n",
       "    </tr>\n",
       "    <tr>\n",
       "      <th>75%</th>\n",
       "      <td>16.850000</td>\n",
       "      <td>0.094585</td>\n",
       "      <td>185.643700</td>\n",
       "      <td>2004.000000</td>\n",
       "      <td>3101.296400</td>\n",
       "    </tr>\n",
       "    <tr>\n",
       "      <th>max</th>\n",
       "      <td>21.350000</td>\n",
       "      <td>0.328391</td>\n",
       "      <td>266.888400</td>\n",
       "      <td>2009.000000</td>\n",
       "      <td>13086.964800</td>\n",
       "    </tr>\n",
       "  </tbody>\n",
       "</table>\n",
       "</div>"
      ],
      "text/plain": [
       "       Item_Weight  Item_Visibility     Item_MRP  Outlet_Establishment_Year  \\\n",
       "count  7060.000000      8523.000000  8523.000000                8523.000000   \n",
       "mean     12.857645         0.066132   140.992782                1997.831867   \n",
       "std       4.643456         0.051598    62.275067                   8.371760   \n",
       "min       4.555000         0.000000    31.290000                1985.000000   \n",
       "25%       8.773750         0.026989    93.826500                1987.000000   \n",
       "50%      12.600000         0.053931   143.012800                1999.000000   \n",
       "75%      16.850000         0.094585   185.643700                2004.000000   \n",
       "max      21.350000         0.328391   266.888400                2009.000000   \n",
       "\n",
       "       Item_Outlet_Sales  \n",
       "count        8523.000000  \n",
       "mean         2181.288914  \n",
       "std          1706.499616  \n",
       "min            33.290000  \n",
       "25%           834.247400  \n",
       "50%          1794.331000  \n",
       "75%          3101.296400  \n",
       "max         13086.964800  "
      ]
     },
     "execution_count": 3,
     "metadata": {},
     "output_type": "execute_result"
    }
   ],
   "source": [
    "# Performing Statistical Describtion on our dataframe to know more about our dataset\n",
    "df.describe()"
   ]
  },
  {
   "cell_type": "markdown",
   "id": "0697384c",
   "metadata": {},
   "source": [
    "From what we seeing right now we discovered from our statistical describtion that we have null values on Item_Weights we will be using the mean to fill the missing records on the dataset."
   ]
  },
  {
   "cell_type": "code",
   "execution_count": 4,
   "id": "be3ae826",
   "metadata": {},
   "outputs": [
    {
     "name": "stdout",
     "output_type": "stream",
     "text": [
      "<class 'pandas.core.frame.DataFrame'>\n",
      "RangeIndex: 8523 entries, 0 to 8522\n",
      "Data columns (total 12 columns):\n",
      " #   Column                     Non-Null Count  Dtype  \n",
      "---  ------                     --------------  -----  \n",
      " 0   Item_Identifier            8523 non-null   object \n",
      " 1   Item_Weight                7060 non-null   float64\n",
      " 2   Item_Fat_Content           8523 non-null   object \n",
      " 3   Item_Visibility            8523 non-null   float64\n",
      " 4   Item_Type                  8523 non-null   object \n",
      " 5   Item_MRP                   8523 non-null   float64\n",
      " 6   Outlet_Identifier          8523 non-null   object \n",
      " 7   Outlet_Establishment_Year  8523 non-null   int64  \n",
      " 8   Outlet_Size                6113 non-null   object \n",
      " 9   Outlet_Location_Type       8523 non-null   object \n",
      " 10  Outlet_Type                8523 non-null   object \n",
      " 11  Item_Outlet_Sales          8523 non-null   float64\n",
      "dtypes: float64(4), int64(1), object(7)\n",
      "memory usage: 799.2+ KB\n"
     ]
    }
   ],
   "source": [
    "# Discovering the datatypes of our datasets\n",
    "df.info()"
   ]
  },
  {
   "cell_type": "markdown",
   "id": "ed512683",
   "metadata": {},
   "source": [
    "Here we discovered that our dataset has 7 catergorical features, 5 numercial features (4 float, 1 integer)\n",
    "\n",
    "Also we can see here that we have 2 columns with missing values (Item_Weight, Outlet_Size)"
   ]
  },
  {
   "cell_type": "code",
   "execution_count": 5,
   "id": "3d2738e9",
   "metadata": {},
   "outputs": [
    {
     "name": "stdout",
     "output_type": "stream",
     "text": [
      "Item_Identifier : 1559\n",
      "Item_Weight : 416\n",
      "Item_Fat_Content : 5\n",
      "Item_Visibility : 7880\n",
      "Item_Type : 16\n",
      "Item_MRP : 5938\n",
      "Outlet_Identifier : 10\n",
      "Outlet_Establishment_Year : 9\n",
      "Outlet_Size : 4\n",
      "Outlet_Location_Type : 3\n",
      "Outlet_Type : 4\n",
      "Item_Outlet_Sales : 3493\n"
     ]
    }
   ],
   "source": [
    "# Here we try to check the number of unique values in every column in the dataset\n",
    "for column in df:\n",
    "    print(f'{column} : {len(df[column].unique())}')"
   ]
  },
  {
   "cell_type": "markdown",
   "id": "09aae257",
   "metadata": {},
   "source": [
    "We will not be using the Item_Identifier and Outlet_Identifier since they don't matter that much in training our model\n",
    "\n"
   ]
  },
  {
   "cell_type": "code",
   "execution_count": 6,
   "id": "2cb5f06a",
   "metadata": {},
   "outputs": [
    {
     "data": {
      "text/plain": [
       "Item_Identifier                 0\n",
       "Item_Weight                  1463\n",
       "Item_Fat_Content                0\n",
       "Item_Visibility                 0\n",
       "Item_Type                       0\n",
       "Item_MRP                        0\n",
       "Outlet_Identifier               0\n",
       "Outlet_Establishment_Year       0\n",
       "Outlet_Size                  2410\n",
       "Outlet_Location_Type            0\n",
       "Outlet_Type                     0\n",
       "Item_Outlet_Sales               0\n",
       "dtype: int64"
      ]
     },
     "execution_count": 6,
     "metadata": {},
     "output_type": "execute_result"
    }
   ],
   "source": [
    "# Checking how many null values are in each column\n",
    "\n",
    "df.isnull().sum()"
   ]
  },
  {
   "cell_type": "code",
   "execution_count": 7,
   "id": "3928cba1",
   "metadata": {},
   "outputs": [
    {
     "data": {
      "text/plain": [
       "['Item_Identifier',\n",
       " 'Item_Fat_Content',\n",
       " 'Item_Type',\n",
       " 'Outlet_Identifier',\n",
       " 'Outlet_Size',\n",
       " 'Outlet_Location_Type',\n",
       " 'Outlet_Type']"
      ]
     },
     "execution_count": 7,
     "metadata": {},
     "output_type": "execute_result"
    }
   ],
   "source": [
    "# Collecting the categorical features into 1 list to prepare it for \n",
    "categorical_features = []\n",
    "\n",
    "#select_dtypes -> built-in method in pandas library that returns a dataframe of columns with type object only\n",
    "#columns -> returns the column names\n",
    "#tolist -> convert column names into list\n",
    "categorical_features = df.select_dtypes(include=['object']).columns.tolist()\n",
    "        \n",
    "categorical_features"
   ]
  },
  {
   "cell_type": "markdown",
   "id": "bac97132",
   "metadata": {},
   "source": [
    "As we said previously from our analysis we will not be using Item_Identifier or Outlet_Identifier so we will remove them from our list"
   ]
  },
  {
   "cell_type": "code",
   "execution_count": 8,
   "id": "ef6171e2",
   "metadata": {},
   "outputs": [],
   "source": [
    "# Removing the unneccessary features that we won't use in our training\n",
    "categorical_features.remove('Item_Identifier')\n",
    "categorical_features.remove('Outlet_Identifier')\n",
    "\n",
    "# Removing them also from our dataframe\n",
    "df = df.drop(columns=['Item_Identifier', 'Outlet_Identifier'])"
   ]
  },
  {
   "cell_type": "markdown",
   "id": "0d6a63e2",
   "metadata": {},
   "source": [
    "Now we have only 5 categorical features to work with we will make some analysis on those features and after that we will start our preprocessing stage"
   ]
  },
  {
   "cell_type": "code",
   "execution_count": 9,
   "id": "438b2b96",
   "metadata": {
    "scrolled": true
   },
   "outputs": [
    {
     "name": "stdout",
     "output_type": "stream",
     "text": [
      "Item_Fat_Content\n",
      "Low Fat    5089\n",
      "Regular    2889\n",
      "LF          316\n",
      "reg         117\n",
      "low fat     112\n",
      "Name: count, dtype: int64\n",
      "\n",
      "Item_Type\n",
      "Fruits and Vegetables    1232\n",
      "Snack Foods              1200\n",
      "Household                 910\n",
      "Frozen Foods              856\n",
      "Dairy                     682\n",
      "Canned                    649\n",
      "Baking Goods              648\n",
      "Health and Hygiene        520\n",
      "Soft Drinks               445\n",
      "Meat                      425\n",
      "Breads                    251\n",
      "Hard Drinks               214\n",
      "Others                    169\n",
      "Starchy Foods             148\n",
      "Breakfast                 110\n",
      "Seafood                    64\n",
      "Name: count, dtype: int64\n",
      "\n",
      "Outlet_Size\n",
      "Medium    2793\n",
      "Small     2388\n",
      "High       932\n",
      "Name: count, dtype: int64\n",
      "\n",
      "Outlet_Location_Type\n",
      "Tier 3    3350\n",
      "Tier 2    2785\n",
      "Tier 1    2388\n",
      "Name: count, dtype: int64\n",
      "\n",
      "Outlet_Type\n",
      "Supermarket Type1    5577\n",
      "Grocery Store        1083\n",
      "Supermarket Type3     935\n",
      "Supermarket Type2     928\n",
      "Name: count, dtype: int64\n",
      "\n"
     ]
    }
   ],
   "source": [
    "# We will print the categorical columns values to check if there are redundant unique values or what\n",
    "\n",
    "for column in categorical_features:\n",
    "    print(df[column].value_counts())\n",
    "    print()"
   ]
  },
  {
   "cell_type": "markdown",
   "id": "ebc3fd2e",
   "metadata": {},
   "source": [
    "From the Item_Fat_content we can see that there are redundant unique values such as Low Fat = LF = low fat and also Regular = reg so we need to combine them since they are representing the same information"
   ]
  },
  {
   "cell_type": "markdown",
   "id": "8a75e65e",
   "metadata": {},
   "source": [
    "# 4- Preproccesing our dataset"
   ]
  },
  {
   "cell_type": "code",
   "execution_count": 10,
   "id": "3f28196e",
   "metadata": {},
   "outputs": [
    {
     "data": {
      "text/plain": [
       "Item_Weight                  0\n",
       "Item_Fat_Content             0\n",
       "Item_Visibility              0\n",
       "Item_Type                    0\n",
       "Item_MRP                     0\n",
       "Outlet_Establishment_Year    0\n",
       "Outlet_Size                  0\n",
       "Outlet_Location_Type         0\n",
       "Outlet_Type                  0\n",
       "Item_Outlet_Sales            0\n",
       "dtype: int64"
      ]
     },
     "execution_count": 10,
     "metadata": {},
     "output_type": "execute_result"
    }
   ],
   "source": [
    "# We will start by filling out our null values in the dataset we have 2 columns with null\n",
    "# Numerical column -> Item_Weight -> we will handle it by using the mean value\n",
    "# Categorical column -> Outlet_Size -> we will handle it by using the mode\n",
    "\n",
    "df['Item_Weight'].fillna(df['Item_Weight'].mean(), inplace=True)\n",
    "df['Outlet_Size'].fillna(df['Outlet_Size'].mode()[0], inplace=True)\n",
    "\n",
    "df.isnull().sum()"
   ]
  },
  {
   "cell_type": "markdown",
   "id": "b1f1cf7d",
   "metadata": {},
   "source": [
    "We have filled the null values of our features and we can clearly see that there are no more null values in our dataset but previously when we were discovering our dataset we saw that Item_Visibility feature has 0 values which can affect our model and make it biased so we have to take the mean and adjust those 0 values but to make sure that we have 0 values we are going to check first using the sum function"
   ]
  },
  {
   "cell_type": "code",
   "execution_count": 11,
   "id": "b3f9e312",
   "metadata": {},
   "outputs": [
    {
     "data": {
      "text/plain": [
       "526"
      ]
     },
     "execution_count": 11,
     "metadata": {},
     "output_type": "execute_result"
    }
   ],
   "source": [
    "sum(df['Item_Visibility'] == 0)"
   ]
  },
  {
   "cell_type": "markdown",
   "id": "055c1f88",
   "metadata": {},
   "source": [
    "We can see that we have 526 values equal to zero and that will hard affect our model so we are going to use the mean value to fill that"
   ]
  },
  {
   "cell_type": "code",
   "execution_count": 12,
   "id": "ff86b182",
   "metadata": {},
   "outputs": [],
   "source": [
    "# we will use the replace function to replace the 0 value with the mean of the Item_Visibility Column\n",
    "# we used the loc method to go through all rows in the Item_Visibility Column\n",
    "# inplace means that keep the changes into the original dataframe\n",
    "df.loc[:, 'Item_Visibility'].replace([0], df['Item_Visibility'].mean(), inplace = True)"
   ]
  },
  {
   "cell_type": "markdown",
   "id": "d35a1175",
   "metadata": {},
   "source": [
    "Lets recap what we have done for preproccesing so far:\n",
    "\n",
    "1- Filling the null values of features.\n",
    "\n",
    "2- Filling the zeros in Item_Visibility with the mean value of it to make the model better.\n",
    "\n",
    "Up Next:\n",
    "\n",
    "* We are going to aggregate the redundant values in Item_Fat_Content that we discovered earlier since they mean the same and to make it easier for the model.\n",
    "\n",
    "* We are going to adjust the Outlet_Establishment_Year since the model might give it high weight because it is value is big"
   ]
  },
  {
   "cell_type": "code",
   "execution_count": 13,
   "id": "6508e441",
   "metadata": {},
   "outputs": [
    {
     "data": {
      "text/plain": [
       "Item_Fat_Content\n",
       "Low Fat    5517\n",
       "Regular    3006\n",
       "Name: count, dtype: int64"
      ]
     },
     "execution_count": 13,
     "metadata": {},
     "output_type": "execute_result"
    }
   ],
   "source": [
    "df['Item_Fat_Content'] = df['Item_Fat_Content'].replace({'LF' : 'Low Fat', 'reg' : 'Regular', 'low fat' : 'Low Fat'})\n",
    "df['Item_Fat_Content'].value_counts()"
   ]
  },
  {
   "cell_type": "code",
   "execution_count": 14,
   "id": "234a2536",
   "metadata": {},
   "outputs": [],
   "source": [
    "# Creating smaller values for Outlet_Establishment_Year\n",
    "# since this dataset was collected at 2013 we will subtract the value from 2013\n",
    "\n",
    "df['Outlet_Years'] = 2013 - df['Outlet_Establishment_Year']\n",
    "\n",
    "# Dropping the Outlet_Establishment_Year column since we don't need it anymore\n",
    "df = df.drop(columns = ['Outlet_Establishment_Year'])"
   ]
  },
  {
   "cell_type": "code",
   "execution_count": 15,
   "id": "7f8a17ac",
   "metadata": {},
   "outputs": [
    {
     "name": "stdout",
     "output_type": "stream",
     "text": [
      "<class 'pandas.core.frame.DataFrame'>\n",
      "RangeIndex: 8523 entries, 0 to 8522\n",
      "Data columns (total 10 columns):\n",
      " #   Column                Non-Null Count  Dtype  \n",
      "---  ------                --------------  -----  \n",
      " 0   Item_Weight           8523 non-null   float64\n",
      " 1   Item_Fat_Content      8523 non-null   object \n",
      " 2   Item_Visibility       8523 non-null   float64\n",
      " 3   Item_Type             8523 non-null   object \n",
      " 4   Item_MRP              8523 non-null   float64\n",
      " 5   Outlet_Size           8523 non-null   object \n",
      " 6   Outlet_Location_Type  8523 non-null   object \n",
      " 7   Outlet_Type           8523 non-null   object \n",
      " 8   Item_Outlet_Sales     8523 non-null   float64\n",
      " 9   Outlet_Years          8523 non-null   int64  \n",
      "dtypes: float64(4), int64(1), object(5)\n",
      "memory usage: 666.0+ KB\n",
      "Item_Fat_Content : ['Low Fat' 'Regular']\n",
      "Item_Type : ['Dairy' 'Soft Drinks' 'Meat' 'Fruits and Vegetables' 'Household'\n",
      " 'Baking Goods' 'Snack Foods' 'Frozen Foods' 'Breakfast'\n",
      " 'Health and Hygiene' 'Hard Drinks' 'Canned' 'Breads' 'Starchy Foods'\n",
      " 'Others' 'Seafood']\n",
      "Outlet_Size : ['Medium' 'High' 'Small']\n",
      "Outlet_Location_Type : ['Tier 1' 'Tier 3' 'Tier 2']\n",
      "Outlet_Type : ['Supermarket Type1' 'Supermarket Type2' 'Grocery Store'\n",
      " 'Supermarket Type3']\n"
     ]
    }
   ],
   "source": [
    "df.info()\n",
    "\n",
    "for column in df:\n",
    "    if df[column].dtypes == 'object':\n",
    "        print(f'{column} : {df[column].unique()}')"
   ]
  },
  {
   "cell_type": "markdown",
   "id": "6457c968",
   "metadata": {},
   "source": [
    "Now we are going to Encode our object features using label encoder and one hot encoder\n",
    " * We will use label encoder with categorical features that has 2 values\n",
    " * We will use One Hot Encoder with categorical features that has more than 2 values"
   ]
  },
  {
   "cell_type": "code",
   "execution_count": 16,
   "id": "f2268ed1",
   "metadata": {},
   "outputs": [
    {
     "name": "stdout",
     "output_type": "stream",
     "text": [
      "Data after encoding:\n",
      "<class 'pandas.core.frame.DataFrame'>\n",
      "RangeIndex: 8523 entries, 0 to 8522\n",
      "Data columns (total 32 columns):\n",
      " #   Column                           Non-Null Count  Dtype  \n",
      "---  ------                           --------------  -----  \n",
      " 0   Item_Weight                      8523 non-null   float64\n",
      " 1   Item_Fat_Content                 8523 non-null   int32  \n",
      " 2   Item_Visibility                  8523 non-null   float64\n",
      " 3   Item_MRP                         8523 non-null   float64\n",
      " 4   Item_Outlet_Sales                8523 non-null   float64\n",
      " 5   Outlet_Years                     8523 non-null   int64  \n",
      " 6   Item_Type_Baking Goods           8523 non-null   float64\n",
      " 7   Item_Type_Breads                 8523 non-null   float64\n",
      " 8   Item_Type_Breakfast              8523 non-null   float64\n",
      " 9   Item_Type_Canned                 8523 non-null   float64\n",
      " 10  Item_Type_Dairy                  8523 non-null   float64\n",
      " 11  Item_Type_Frozen Foods           8523 non-null   float64\n",
      " 12  Item_Type_Fruits and Vegetables  8523 non-null   float64\n",
      " 13  Item_Type_Hard Drinks            8523 non-null   float64\n",
      " 14  Item_Type_Health and Hygiene     8523 non-null   float64\n",
      " 15  Item_Type_Household              8523 non-null   float64\n",
      " 16  Item_Type_Meat                   8523 non-null   float64\n",
      " 17  Item_Type_Others                 8523 non-null   float64\n",
      " 18  Item_Type_Seafood                8523 non-null   float64\n",
      " 19  Item_Type_Snack Foods            8523 non-null   float64\n",
      " 20  Item_Type_Soft Drinks            8523 non-null   float64\n",
      " 21  Item_Type_Starchy Foods          8523 non-null   float64\n",
      " 22  Outlet_Size_High                 8523 non-null   float64\n",
      " 23  Outlet_Size_Medium               8523 non-null   float64\n",
      " 24  Outlet_Size_Small                8523 non-null   float64\n",
      " 25  Outlet_Location_Type_Tier 1      8523 non-null   float64\n",
      " 26  Outlet_Location_Type_Tier 2      8523 non-null   float64\n",
      " 27  Outlet_Location_Type_Tier 3      8523 non-null   float64\n",
      " 28  Outlet_Type_Grocery Store        8523 non-null   float64\n",
      " 29  Outlet_Type_Supermarket Type1    8523 non-null   float64\n",
      " 30  Outlet_Type_Supermarket Type2    8523 non-null   float64\n",
      " 31  Outlet_Type_Supermarket Type3    8523 non-null   float64\n",
      "dtypes: float64(30), int32(1), int64(1)\n",
      "memory usage: 2.0 MB\n",
      "None\n"
     ]
    }
   ],
   "source": [
    "# Label Encoder\n",
    "labelencoder = LabelEncoder()\n",
    "df['Item_Fat_Content'] = labelencoder.fit_transform(df['Item_Fat_Content'])\n",
    "\n",
    "categorical_features.remove('Item_Fat_Content')\n",
    "\n",
    "df = pd.get_dummies(df, columns = categorical_features, dtype=float)\n",
    "\n",
    "print(\"Data after encoding:\")\n",
    "print(df.info())"
   ]
  },
  {
   "cell_type": "code",
   "execution_count": 17,
   "id": "728067ce",
   "metadata": {},
   "outputs": [
    {
     "name": "stdout",
     "output_type": "stream",
     "text": [
      "Range of Item_Weight: 4.555 to 21.35\n",
      "Range of Item_Visibility: 0.003574698 to 0.328390948\n",
      "Range of Item_MRP: 31.29 to 266.8884\n",
      "Range of Outlet_Years: 4 to 28\n",
      "Range of Item_Outlet_Sales: 33.29 to 13086.9648\n"
     ]
    }
   ],
   "source": [
    "# Identify numerical features\n",
    "numerical_features = ['Item_Weight', 'Item_Visibility', 'Item_MRP', 'Outlet_Years', 'Item_Outlet_Sales']\n",
    "\n",
    "for feature in numerical_features:\n",
    "    feature_max = df[feature].max()\n",
    "    feature_min = df[feature].min()\n",
    "    print(f\"Range of {feature}: {feature_min} to {feature_max}\")\n"
   ]
  },
  {
   "cell_type": "markdown",
   "id": "6fe011d0",
   "metadata": {},
   "source": [
    "After looking at the range of numerical features values we clearly see that we need to scale our values\n",
    "\n",
    "We will be using 2 scalers:\n",
    "\n",
    "* Item_Weight -> Standard Scaler\n",
    "* Item_MRP -> StandardScaler \n",
    "* Outlet_Years -> StandardScaler\n",
    "* Item_Visibility -> MinMaxScaler, Since the values are small with potential right skew\n",
    "* Item_Outlet_Sales -> MinMaxScaler, because the model will benefit from having the target in a [0,1] range for better price prediction"
   ]
  },
  {
   "cell_type": "code",
   "execution_count": 18,
   "id": "3acee80a",
   "metadata": {},
   "outputs": [],
   "source": [
    "# Separate features and target\n",
    "X = df.drop('Item_Outlet_Sales', axis=1)\n",
    "y = df['Item_Outlet_Sales']\n",
    "\n",
    "# Train-test split\n",
    "X_train, X_test, y_train, y_test = train_test_split(X, y, test_size=0.2, random_state=42)\n",
    "\n",
    "# Initialize scalers\n",
    "scaler_standard = StandardScaler()\n",
    "scaler_minmax = MinMaxScaler()\n",
    "\n",
    "# Scale features\n",
    "X_train[['Item_Weight', 'Item_MRP', 'Outlet_Years']] = scaler_standard.fit_transform(\n",
    "    X_train[['Item_Weight', 'Item_MRP', 'Outlet_Years']]\n",
    ")\n",
    "X_test[['Item_Weight', 'Item_MRP', 'Outlet_Years']] = scaler_standard.transform(\n",
    "    X_test[['Item_Weight', 'Item_MRP', 'Outlet_Years']]\n",
    ")\n",
    "\n",
    "X_train[['Item_Visibility']] = scaler_minmax.fit_transform(X_train[['Item_Visibility']])\n",
    "X_test[['Item_Visibility']] = scaler_minmax.transform(X_test[['Item_Visibility']])\n",
    "\n",
    "# Scale target\n",
    "y_scaler = MinMaxScaler()\n",
    "y_train = y_scaler.fit_transform(y_train.values.reshape(-1, 1))\n",
    "y_test = y_scaler.transform(y_test.values.reshape(-1, 1))"
   ]
  },
  {
   "cell_type": "markdown",
   "id": "f50cbf2e",
   "metadata": {},
   "source": [
    "Why do we scaled the data after splitting -> because If we scale the entire dataset before splitting, the test data may \"leak\" information from the training data, leading to overly optimistic model performance estimates. (ChatGpt recommendation)"
   ]
  },
  {
   "cell_type": "markdown",
   "id": "239164c0",
   "metadata": {},
   "source": [
    "# 5- Making the neural network architecture and training it "
   ]
  },
  {
   "cell_type": "code",
   "execution_count": 20,
   "id": "eb7a7d2e",
   "metadata": {},
   "outputs": [],
   "source": [
    "# Preparing the structure of our model\n",
    "model = Sequential([\n",
    "    Dense(64, activation='relu', input_shape=(X_train.shape[1],)),\n",
    "    Dropout(0.2),\n",
    "    Dense(32, activation='relu'),\n",
    "    Dropout(0.2),\n",
    "    Dense(16, activation='relu'),\n",
    "    Dense(1, activation='linear')  # we used Linear activation for regression\n",
    "])\n",
    "\n",
    "# During training Dropout randomly \"drops\" (sets to zero) a fraction of neurons in a layer at each training iteration.\n",
    "# This means that during any given forward pass, a certain percentage of neurons are temporarily removed from the network.\n",
    "# Dropout prevent overfitting\n",
    "# 0.2 = 20% of the layer neurons"
   ]
  },
  {
   "cell_type": "code",
   "execution_count": 21,
   "id": "73a5023d",
   "metadata": {},
   "outputs": [],
   "source": [
    "# Compile the model\n",
    "model.compile(optimizer='adam', loss='mean_squared_error', metrics=['mae'])"
   ]
  },
  {
   "cell_type": "code",
   "execution_count": 22,
   "id": "c89935e4",
   "metadata": {},
   "outputs": [],
   "source": [
    "# EarlyStopping callback\n",
    "early_stopping = EarlyStopping(\n",
    "    monitor='val_loss',  # Metric to monitor\n",
    "    patience=10,         # Number of epochs to wait for improvement\n",
    "    restore_best_weights=True  # Rollback to the best model weights\n",
    ")"
   ]
  },
  {
   "cell_type": "code",
   "execution_count": 23,
   "id": "39329d49",
   "metadata": {},
   "outputs": [
    {
     "name": "stdout",
     "output_type": "stream",
     "text": [
      "Epoch 1/100\n",
      "\u001b[1m214/214\u001b[0m \u001b[32m━━━━━━━━━━━━━━━━━━━━\u001b[0m\u001b[37m\u001b[0m \u001b[1m2s\u001b[0m 3ms/step - loss: 0.0325 - mae: 0.1318 - val_loss: 0.0089 - val_mae: 0.0682\n",
      "Epoch 2/100\n",
      "\u001b[1m214/214\u001b[0m \u001b[32m━━━━━━━━━━━━━━━━━━━━\u001b[0m\u001b[37m\u001b[0m \u001b[1m1s\u001b[0m 2ms/step - loss: 0.0112 - mae: 0.0793 - val_loss: 0.0074 - val_mae: 0.0617\n",
      "Epoch 3/100\n",
      "\u001b[1m214/214\u001b[0m \u001b[32m━━━━━━━━━━━━━━━━━━━━\u001b[0m\u001b[37m\u001b[0m \u001b[1m1s\u001b[0m 2ms/step - loss: 0.0097 - mae: 0.0723 - val_loss: 0.0073 - val_mae: 0.0599\n",
      "Epoch 4/100\n",
      "\u001b[1m214/214\u001b[0m \u001b[32m━━━━━━━━━━━━━━━━━━━━\u001b[0m\u001b[37m\u001b[0m \u001b[1m1s\u001b[0m 2ms/step - loss: 0.0089 - mae: 0.0700 - val_loss: 0.0070 - val_mae: 0.0594\n",
      "Epoch 5/100\n",
      "\u001b[1m214/214\u001b[0m \u001b[32m━━━━━━━━━━━━━━━━━━━━\u001b[0m\u001b[37m\u001b[0m \u001b[1m1s\u001b[0m 2ms/step - loss: 0.0087 - mae: 0.0683 - val_loss: 0.0073 - val_mae: 0.0601\n",
      "Epoch 6/100\n",
      "\u001b[1m214/214\u001b[0m \u001b[32m━━━━━━━━━━━━━━━━━━━━\u001b[0m\u001b[37m\u001b[0m \u001b[1m0s\u001b[0m 2ms/step - loss: 0.0087 - mae: 0.0681 - val_loss: 0.0073 - val_mae: 0.0590\n",
      "Epoch 7/100\n",
      "\u001b[1m214/214\u001b[0m \u001b[32m━━━━━━━━━━━━━━━━━━━━\u001b[0m\u001b[37m\u001b[0m \u001b[1m1s\u001b[0m 2ms/step - loss: 0.0085 - mae: 0.0664 - val_loss: 0.0069 - val_mae: 0.0579\n",
      "Epoch 8/100\n",
      "\u001b[1m214/214\u001b[0m \u001b[32m━━━━━━━━━━━━━━━━━━━━\u001b[0m\u001b[37m\u001b[0m \u001b[1m0s\u001b[0m 2ms/step - loss: 0.0081 - mae: 0.0646 - val_loss: 0.0068 - val_mae: 0.0586\n",
      "Epoch 9/100\n",
      "\u001b[1m214/214\u001b[0m \u001b[32m━━━━━━━━━━━━━━━━━━━━\u001b[0m\u001b[37m\u001b[0m \u001b[1m0s\u001b[0m 2ms/step - loss: 0.0078 - mae: 0.0640 - val_loss: 0.0066 - val_mae: 0.0573\n",
      "Epoch 10/100\n",
      "\u001b[1m214/214\u001b[0m \u001b[32m━━━━━━━━━━━━━━━━━━━━\u001b[0m\u001b[37m\u001b[0m \u001b[1m0s\u001b[0m 2ms/step - loss: 0.0075 - mae: 0.0627 - val_loss: 0.0068 - val_mae: 0.0586\n",
      "Epoch 11/100\n",
      "\u001b[1m214/214\u001b[0m \u001b[32m━━━━━━━━━━━━━━━━━━━━\u001b[0m\u001b[37m\u001b[0m \u001b[1m1s\u001b[0m 2ms/step - loss: 0.0075 - mae: 0.0623 - val_loss: 0.0064 - val_mae: 0.0579\n",
      "Epoch 12/100\n",
      "\u001b[1m214/214\u001b[0m \u001b[32m━━━━━━━━━━━━━━━━━━━━\u001b[0m\u001b[37m\u001b[0m \u001b[1m0s\u001b[0m 2ms/step - loss: 0.0073 - mae: 0.0617 - val_loss: 0.0064 - val_mae: 0.0586\n",
      "Epoch 13/100\n",
      "\u001b[1m214/214\u001b[0m \u001b[32m━━━━━━━━━━━━━━━━━━━━\u001b[0m\u001b[37m\u001b[0m \u001b[1m1s\u001b[0m 2ms/step - loss: 0.0074 - mae: 0.0619 - val_loss: 0.0066 - val_mae: 0.0579\n",
      "Epoch 14/100\n",
      "\u001b[1m214/214\u001b[0m \u001b[32m━━━━━━━━━━━━━━━━━━━━\u001b[0m\u001b[37m\u001b[0m \u001b[1m1s\u001b[0m 2ms/step - loss: 0.0071 - mae: 0.0607 - val_loss: 0.0064 - val_mae: 0.0569\n",
      "Epoch 15/100\n",
      "\u001b[1m214/214\u001b[0m \u001b[32m━━━━━━━━━━━━━━━━━━━━\u001b[0m\u001b[37m\u001b[0m \u001b[1m1s\u001b[0m 2ms/step - loss: 0.0074 - mae: 0.0610 - val_loss: 0.0068 - val_mae: 0.0582\n",
      "Epoch 16/100\n",
      "\u001b[1m214/214\u001b[0m \u001b[32m━━━━━━━━━━━━━━━━━━━━\u001b[0m\u001b[37m\u001b[0m \u001b[1m1s\u001b[0m 2ms/step - loss: 0.0071 - mae: 0.0606 - val_loss: 0.0067 - val_mae: 0.0576\n",
      "Epoch 17/100\n",
      "\u001b[1m214/214\u001b[0m \u001b[32m━━━━━━━━━━━━━━━━━━━━\u001b[0m\u001b[37m\u001b[0m \u001b[1m1s\u001b[0m 2ms/step - loss: 0.0075 - mae: 0.0615 - val_loss: 0.0065 - val_mae: 0.0588\n",
      "Epoch 18/100\n",
      "\u001b[1m214/214\u001b[0m \u001b[32m━━━━━━━━━━━━━━━━━━━━\u001b[0m\u001b[37m\u001b[0m \u001b[1m1s\u001b[0m 2ms/step - loss: 0.0071 - mae: 0.0600 - val_loss: 0.0065 - val_mae: 0.0567\n",
      "Epoch 19/100\n",
      "\u001b[1m214/214\u001b[0m \u001b[32m━━━━━━━━━━━━━━━━━━━━\u001b[0m\u001b[37m\u001b[0m \u001b[1m1s\u001b[0m 2ms/step - loss: 0.0069 - mae: 0.0591 - val_loss: 0.0064 - val_mae: 0.0577\n",
      "Epoch 20/100\n",
      "\u001b[1m214/214\u001b[0m \u001b[32m━━━━━━━━━━━━━━━━━━━━\u001b[0m\u001b[37m\u001b[0m \u001b[1m1s\u001b[0m 2ms/step - loss: 0.0070 - mae: 0.0598 - val_loss: 0.0064 - val_mae: 0.0573\n",
      "Epoch 21/100\n",
      "\u001b[1m214/214\u001b[0m \u001b[32m━━━━━━━━━━━━━━━━━━━━\u001b[0m\u001b[37m\u001b[0m \u001b[1m0s\u001b[0m 2ms/step - loss: 0.0071 - mae: 0.0594 - val_loss: 0.0065 - val_mae: 0.0576\n"
     ]
    }
   ],
   "source": [
    "# Train the model\n",
    "history = model.fit(\n",
    "    X_train, y_train,  # Training data\n",
    "    validation_data=(X_test, y_test),  # Validation data\n",
    "    epochs=100,  # Maximum number of epochs\n",
    "    batch_size=32,  # Number of samples per batch\n",
    "    callbacks=[early_stopping],  # Use EarlyStopping\n",
    "    verbose=1  # Display training progress\n",
    ")"
   ]
  },
  {
   "cell_type": "code",
   "execution_count": 24,
   "id": "aac16fdb",
   "metadata": {},
   "outputs": [
    {
     "name": "stdout",
     "output_type": "stream",
     "text": [
      "Test Loss (MSE): 0.0064\n",
      "Test Mean Absolute Error (MAE): 0.0579\n"
     ]
    }
   ],
   "source": [
    "# Evaluate the model on the test set\n",
    "loss, mae = model.evaluate(X_test, y_test, verbose=0)\n",
    "print(f\"Test Loss (MSE): {loss:.4f}\")\n",
    "print(f\"Test Mean Absolute Error (MAE): {mae:.4f}\")"
   ]
  },
  {
   "cell_type": "code",
   "execution_count": 25,
   "id": "c9a22eab",
   "metadata": {},
   "outputs": [
    {
     "data": {
      "image/png": "[encoded data removed]",
      "text/plain": [
       "<Figure size 800x500 with 1 Axes>"
      ]
     },
     "metadata": {},
     "output_type": "display_data"
    }
   ],
   "source": [
    "import matplotlib.pyplot as plt\n",
    "\n",
    "# Plot the training and validation loss\n",
    "plt.figure(figsize=(8, 5))\n",
    "plt.plot(history.history['loss'], label='Training Loss')\n",
    "plt.plot(history.history['val_loss'], label='Validation Loss')\n",
    "plt.xlabel('Epochs')\n",
    "plt.ylabel('Loss')\n",
    "plt.legend()\n",
    "plt.title('Training and Validation Loss')\n",
    "plt.show()"
   ]
  },
  {
   "cell_type": "code",
   "execution_count": null,
   "id": "02ef9877",
   "metadata": {},
   "outputs": [],
   "source": []
  }
 ],
 "metadata": {
  "kernelspec": {
   "display_name": "Python 3 (ipykernel)",
   "language": "python",
   "name": "python3"
  },
  "language_info": {
   "codemirror_mode": {
    "name": "ipython",
    "version": 3
   },
   "file_extension": ".py",
   "mimetype": "text/x-python",
   "name": "python",
   "nbconvert_exporter": "python",
   "pygments_lexer": "ipython3",
   "version": "3.11.5"
  }
 },
 "nbformat": 4,
 "nbformat_minor": 5
}
